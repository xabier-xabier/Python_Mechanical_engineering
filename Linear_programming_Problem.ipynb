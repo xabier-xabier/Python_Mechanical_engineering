{
 "cells": [
  {
   "cell_type": "markdown",
   "id": "e5e99735",
   "metadata": {},
   "source": [
    "Linear programming Problem"
   ]
  },
  {
   "cell_type": "code",
   "execution_count": 8,
   "id": "73cf1dd1",
   "metadata": {},
   "outputs": [
    {
     "name": "stdout",
     "output_type": "stream",
     "text": [
      "Minimum value of the objective function 4890.0\n",
      "Minimum value of the objective function x [155.   5. 340.]\n"
     ]
    }
   ],
   "source": [
    "import numpy as np\n",
    "from scipy.optimize import linprog\n",
    "\n",
    "Z = np.array([5,7,12]) #objective function\n",
    "\n",
    "# inequality constraints\n",
    "\n",
    "A = np.array([[-1,-1,-1],[-1,2,0],[0,0,-1]])\n",
    "\n",
    "B = np.array([-500,0,-340])\n",
    "\n",
    "x_low = 5\n",
    "x_upper = 500\n",
    "\n",
    "result = linprog(Z,A,B,bounds=[x_low,x_upper])\n",
    "\n",
    "print(\"Minimum value of the objective function\",result.fun)\n",
    "print(\"Minimum value of the objective function x\",result.x)\n"
   ]
  }
 ],
 "metadata": {
  "kernelspec": {
   "display_name": "Python 3 (ipykernel)",
   "language": "python",
   "name": "python3"
  },
  "language_info": {
   "codemirror_mode": {
    "name": "ipython",
    "version": 3
   },
   "file_extension": ".py",
   "mimetype": "text/x-python",
   "name": "python",
   "nbconvert_exporter": "python",
   "pygments_lexer": "ipython3",
   "version": "3.10.9"
  }
 },
 "nbformat": 4,
 "nbformat_minor": 5
}
