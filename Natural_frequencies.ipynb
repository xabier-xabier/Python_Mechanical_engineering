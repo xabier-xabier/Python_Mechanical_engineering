{
 "cells": [
  {
   "cell_type": "markdown",
   "id": "7c73dea0",
   "metadata": {},
   "source": [
    "Natural frequencies"
   ]
  },
  {
   "cell_type": "code",
   "execution_count": 9,
   "id": "28ffcbd6",
   "metadata": {},
   "outputs": [
    {
     "name": "stdout",
     "output_type": "stream",
     "text": [
      "First natural frequency: 1.9902877389722402\n",
      "Second natural frequency: 5.576662320936011\n",
      "Third natural frequency: 8.05851053696335\n"
     ]
    }
   ],
   "source": [
    "import numpy as np\n",
    "from scipy import linalg\n",
    "\n",
    "m1,m2,m3=5,5,5\n",
    "k1,k2,k3=100,100,100\n",
    "\n",
    "M=np.array([[m1,0,0],\n",
    "            [0,m2,0],\n",
    "            [0,0,m3]])\n",
    "\n",
    "K=np.array([[k1+k2,-k2,0],[-k2,k2+k3,-k3],[0,-k3,k3]])\n",
    "\n",
    "#eigevalue\n",
    "\n",
    "u,v=linalg.eigh(K,M)\n",
    "\n",
    "#print(u) #eigenvalue\n",
    "#print(v) #eigenvector\n",
    "\n",
    "wn=np.sqrt(u)\n",
    "print(\"First natural frequency:\",wn[0])\n",
    "print(\"Second natural frequency:\",wn[1])\n",
    "print(\"Third natural frequency:\",wn[2])"
   ]
  }
 ],
 "metadata": {
  "kernelspec": {
   "display_name": "Python 3 (ipykernel)",
   "language": "python",
   "name": "python3"
  },
  "language_info": {
   "codemirror_mode": {
    "name": "ipython",
    "version": 3
   },
   "file_extension": ".py",
   "mimetype": "text/x-python",
   "name": "python",
   "nbconvert_exporter": "python",
   "pygments_lexer": "ipython3",
   "version": "3.10.9"
  }
 },
 "nbformat": 4,
 "nbformat_minor": 5
}
